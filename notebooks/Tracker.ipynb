{
 "cells": [
  {
   "cell_type": "markdown",
   "metadata": {},
   "source": [
    "# A Short Example\n",
    "\n",
    "Use this notebook in combination with this piece of [Parallel Julia example](example_pmap.jl).\n",
    "\n",
    "- launch this notebook\n",
    "- execute the first cell to start off the server\n",
    "- run the parallel julia example (`example_pmap.jl`)\n",
    "- execute the remaining cells as needed while the program is running\n",
    "- cells 2 to 6 examine the data sent from the Julia processes\n",
    "- cell 7 resets the collected data and starts over again\n",
    "- cell 8 stops the server"
   ]
  },
  {
   "cell_type": "code",
   "execution_count": 1,
   "metadata": {},
   "outputs": [],
   "source": [
    "using RemoteMonitor\n",
    "start_listener(TimeStatsCollector(), LogsCollector())"
   ]
  },
  {
   "cell_type": "markdown",
   "metadata": {},
   "source": [
    "**Recorded pids and events**"
   ]
  },
  {
   "cell_type": "code",
   "execution_count": 2,
   "metadata": {},
   "outputs": [
    {
     "name": "stdout",
     "output_type": "stream",
     "text": [
      "Set([2, 3, 1])\n",
      "Set(Symbol[:Main_estimate_pi, :Main_darts_in_circle])\n"
     ]
    }
   ],
   "source": [
    "println(pids(:time))\n",
    "println(events(:time))"
   ]
  },
  {
   "cell_type": "markdown",
   "metadata": {},
   "source": [
    "**Time tracking**"
   ]
  },
  {
   "cell_type": "code",
   "execution_count": 3,
   "metadata": {},
   "outputs": [
    {
     "data": {
      "text/plain": [
       "\u001b[1m\u001b[31m▦ 1 - Main_estimate_pi: \u001b[39m\u001b[22m\u001b[32m▦ Series{0}\u001b[39m\n",
       "│\u001b[32m EqualWeight | nobs=1\u001b[39m\n",
       "├── Mean(7.57154)\n",
       "├── Variance(0.0)\n",
       "├── Extrema{Float64}((7.57154, 7.57154))\n",
       "└── Sum{Float64}(7.57154)\n"
      ]
     },
     "execution_count": 3,
     "metadata": {},
     "output_type": "execute_result"
    }
   ],
   "source": [
    "# at the master process\n",
    "entries(:time, 1)"
   ]
  },
  {
   "cell_type": "code",
   "execution_count": 4,
   "metadata": {},
   "outputs": [
    {
     "data": {
      "text/plain": [
       "\u001b[1m\u001b[31m▦ 2 - Main_darts_in_circle: \u001b[39m\u001b[22m\u001b[32m▦ Series{0}\u001b[39m\n",
       "│\u001b[32m EqualWeight | nobs=4323\u001b[39m\n",
       "├── Mean(0.00076776)\n",
       "├── Variance(2.19324e-7)\n",
       "├── Extrema{Float64}((0.000714064, 0.031419))\n",
       "└── Sum{Float64}(3.31902)\n",
       "\u001b[1m\u001b[31m▦ 3 - Main_darts_in_circle: \u001b[39m\u001b[22m\u001b[32m▦ Series{0}\u001b[39m\n",
       "│\u001b[32m EqualWeight | nobs=4277\u001b[39m\n",
       "├── Mean(0.000767924)\n",
       "├── Variance(2.28067e-7)\n",
       "├── Extrema{Float64}((0.000713825, 0.031888))\n",
       "└── Sum{Float64}(3.28441)\n"
      ]
     },
     "execution_count": 4,
     "metadata": {},
     "output_type": "execute_result"
    }
   ],
   "source": [
    "# at all workers\n",
    "entries(:time, :Main_darts_in_circle)"
   ]
  },
  {
   "cell_type": "markdown",
   "metadata": {},
   "source": [
    "**Logging**"
   ]
  },
  {
   "cell_type": "code",
   "execution_count": 5,
   "metadata": {},
   "outputs": [
    {
     "data": {
      "text/plain": [
       "\u001b[1m\u001b[31m▦ 1 - main_task:\n",
       "\u001b[39m\u001b[22mestimated pi = 3.141610552\n"
      ]
     },
     "execution_count": 5,
     "metadata": {},
     "output_type": "execute_result"
    }
   ],
   "source": [
    "# at the master process\n",
    "entries(:log, 1)"
   ]
  },
  {
   "cell_type": "code",
   "execution_count": 6,
   "metadata": {},
   "outputs": [
    {
     "data": {
      "text/plain": [
       "\u001b[1m\u001b[31m▦ 2 - worker_task:\n",
       "\u001b[39m\u001b[22mn = 78044\n",
       "n = 78568\n",
       "n = 78294\n",
       "n = 78486\n",
       "n = 78744\n",
       "n = 78450\n",
       "n = 78671\n",
       "n = 78406\n",
       "n = 78531\n",
       "n = 78491\n",
       "n = 78429\n",
       "n = 78524\n",
       "n = 78573\n",
       "n = 78472\n",
       "n = 78623\n",
       "n = 78557\n",
       "n = 78458\n",
       "n = 78567\n",
       "n = 78422\n",
       "n = 78580\n",
       "n = 78588\n",
       "n = 78466\n",
       "n = 78465\n",
       "n = 78466\n",
       "n = 78641\n",
       "n = 78586\n",
       "n = 78802\n",
       "n = 78707\n",
       "n = 78477\n",
       "n = 78525\n",
       "n = 78676\n",
       "n = 78725\n",
       "n = 78595\n",
       "n = 78641\n",
       "n = 78593\n",
       "n = 78583\n",
       "n = 78648\n",
       "n = 78567\n",
       "n = 78692\n",
       "n = 78359\n",
       "n = 78363\n",
       "n = 78614\n",
       "n = 78564\n",
       "n = 78554\n",
       "n = 78770\n",
       "n = 78495\n",
       "n = 78702\n",
       "n = 78397\n",
       "n = 78407\n",
       "n = 78645\n",
       "n = 78805\n",
       "n = 78668\n",
       "n = 78458\n",
       "n = 78655\n",
       "n = 78574\n",
       "n = 78507\n",
       "n = 78584\n",
       "n = 78296\n",
       "n = 78424\n",
       "n = 78424\n",
       "n = 78528\n",
       "n = 78563\n",
       "n = 78445\n",
       "n = 78633\n",
       "n = 78731\n",
       "n = 78567\n",
       "n = 78406\n",
       "n = 78754\n",
       "n = 78619\n",
       "n = 78486\n",
       "n = 78549\n",
       "n = 78461\n",
       "n = 78540\n",
       "n = 78540\n",
       "n = 78545\n",
       "n = 78313\n",
       "n = 78479\n",
       "n = 78470\n",
       "n = 78530\n",
       "n = 78323\n",
       "n = 78619\n",
       "n = 78451\n",
       "n = 78398\n",
       "n = 78653\n",
       "n = 78500\n",
       "n = 78383\n",
       "n = 78502\n",
       "n = 78536\n",
       "n = 78533\n",
       "n = 78541\n",
       "n = 78575\n",
       "n = 78524\n",
       "n = 78449\n",
       "n = 78707\n",
       "n = 78478\n",
       "n = 78678\n",
       "n = 78741\n",
       "n = 78612\n",
       "n = 78820\n",
       "n = 78671\n"
      ]
     },
     "execution_count": 6,
     "metadata": {},
     "output_type": "execute_result"
    }
   ],
   "source": [
    "# on a worker\n",
    "entries(:log, 2)"
   ]
  },
  {
   "cell_type": "code",
   "execution_count": 7,
   "metadata": {},
   "outputs": [],
   "source": [
    "# reset all data and start accumulating afresh\n",
    "reset()"
   ]
  },
  {
   "cell_type": "code",
   "execution_count": 8,
   "metadata": {},
   "outputs": [
    {
     "data": {
      "text/plain": [
       "false"
      ]
     },
     "execution_count": 8,
     "metadata": {},
     "output_type": "execute_result"
    }
   ],
   "source": [
    "# check if the listener is done\n",
    "isempty(RemoteMonitor.daemon) || istaskdone(RemoteMonitor.daemon[1])"
   ]
  },
  {
   "cell_type": "code",
   "execution_count": 9,
   "metadata": {},
   "outputs": [],
   "source": [
    "# stop the listener\n",
    "stop_listener()"
   ]
  },
  {
   "cell_type": "code",
   "execution_count": null,
   "metadata": {},
   "outputs": [],
   "source": []
  }
 ],
 "metadata": {
  "kernelspec": {
   "display_name": "Julia 0.6.2",
   "language": "julia",
   "name": "julia-0.6"
  },
  "language_info": {
   "file_extension": ".jl",
   "mimetype": "application/julia",
   "name": "julia",
   "version": "0.6.2"
  }
 },
 "nbformat": 4,
 "nbformat_minor": 2
}
