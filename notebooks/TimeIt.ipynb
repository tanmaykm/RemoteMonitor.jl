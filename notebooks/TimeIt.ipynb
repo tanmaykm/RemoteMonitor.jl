{
 "cells": [
  {
   "cell_type": "code",
   "execution_count": 1,
   "metadata": {},
   "outputs": [],
   "source": [
    "using RemoteMonitor"
   ]
  },
  {
   "cell_type": "code",
   "execution_count": 2,
   "metadata": {},
   "outputs": [],
   "source": [
    "start_listener(TimeItCollector())"
   ]
  },
  {
   "cell_type": "code",
   "execution_count": 3,
   "metadata": {},
   "outputs": [
    {
     "name": "stdout",
     "output_type": "stream",
     "text": [
      "Set([4, 2, 3])\n",
      "Set(Symbol[:timeit])\n"
     ]
    }
   ],
   "source": [
    "println(pids(:timeit))\n",
    "println(events(:timeit))"
   ]
  },
  {
   "cell_type": "code",
   "execution_count": 4,
   "metadata": {},
   "outputs": [
    {
     "name": "stdout",
     "output_type": "stream",
     "text": [
      " \u001b[1m────────────────────────────────────────────────────────────────────────\u001b[22m\n",
      " \u001b[1m                        \u001b[22m        Time                   Allocations      \n",
      "                         ──────────────────────   ───────────────────────\n",
      "    Tot / % measured:          320s / 0.39%            174MiB / 0.00%    \n",
      "\n",
      " Section         ncalls     time   %tot     avg     alloc   %tot      avg\n",
      " ────────────────────────────────────────────────────────────────────────\n"
     ]
    },
    {
     "data": {
      "text/plain": [
       "\u001b[1m\u001b[31m▦ 3 - timeit:\n",
       "\u001b[39m\u001b[22m"
      ]
     },
     "execution_count": 4,
     "metadata": {},
     "output_type": "execute_result"
    },
    {
     "name": "stdout",
     "output_type": "stream",
     "text": [
      " nest5                1    1.26s   100%   1.26s   4.39KiB  100%   4.39KiB\n",
      "   nest4              1    1.01s  80.0%   1.01s   3.36KiB  76.5%  3.36KiB\n",
      "     nest3            1    754ms  60.0%   754ms   2.33KiB  53.0%  2.33KiB\n",
      "       nest2          1    503ms  40.0%   503ms   1.30KiB  29.5%  1.30KiB\n",
      "         nest1        1    251ms  20.0%   251ms         -  4.27%        -\n",
      " \u001b[1m────────────────────────────────────────────────────────────────────────\u001b[22m\n"
     ]
    }
   ],
   "source": [
    "entries(:timeit, 3)"
   ]
  },
  {
   "cell_type": "code",
   "execution_count": null,
   "metadata": {},
   "outputs": [],
   "source": []
  }
 ],
 "metadata": {
  "kernelspec": {
   "display_name": "Julia 0.6.2",
   "language": "julia",
   "name": "julia-0.6"
  },
  "language_info": {
   "file_extension": ".jl",
   "mimetype": "application/julia",
   "name": "julia",
   "version": "0.6.2"
  }
 },
 "nbformat": 4,
 "nbformat_minor": 2
}
